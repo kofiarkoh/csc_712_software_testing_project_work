{
 "cells": [
  {
   "cell_type": "code",
   "execution_count": 35,
   "id": "initial_id",
   "metadata": {
    "collapsed": true,
    "ExecuteTime": {
     "end_time": "2024-11-02T23:14:35.162708Z",
     "start_time": "2024-11-02T23:14:35.139131Z"
    }
   },
   "outputs": [],
   "source": [
    "import pandas as pd\n",
    "import os"
   ]
  },
  {
   "cell_type": "code",
   "outputs": [],
   "source": [
    "\n",
    "def generate_test_summary(project_name):\n",
    "    all_data = pd.DataFrame()\n",
    "\n",
    "    for filename in os.listdir(f\"./results/{project_name}\"):\n",
    "        \n",
    "        if filename.startswith('test_result_') and filename.endswith('.tsv'):\n",
    "            full_filepath = f'./results/{project_name}/{filename}'\n",
    "            df = pd.read_csv(\n",
    "                full_filepath,\n",
    "                sep='\\t', usecols=[0,1,2,3,4],\n",
    "                names=['conf_file', 'conf_test', 'a', 'status', 'b'],\n",
    "                header=None\n",
    "            )\n",
    "            \n",
    "            # Append the data to all_data DataFrame\n",
    "            all_data = pd.concat([all_data, df], ignore_index=True)\n",
    "    num_of_configs = all_data['conf_file'].value_counts().shape[0]\n",
    "    num_of_tests = all_data['conf_test'].value_counts().shape[0]\n",
    "    return {\n",
    "        \"num_of_configs\": num_of_configs,\n",
    "        \"num_of_tests\": num_of_tests\n",
    "    }\n",
    "\n"
   ],
   "metadata": {
    "collapsed": false,
    "ExecuteTime": {
     "end_time": "2024-11-02T23:15:14.074074Z",
     "start_time": "2024-11-02T23:15:14.067183Z"
    }
   },
   "id": "727f24a7228cf762",
   "execution_count": 40
  },
  {
   "cell_type": "code",
   "outputs": [
    {
     "data": {
      "text/plain": "{'num_of_configs': 86, 'num_of_tests': 1117}"
     },
     "execution_count": 41,
     "metadata": {},
     "output_type": "execute_result"
    }
   ],
   "source": [
    "alluxio_results = generate_test_summary(\"alluxio-core\")\n",
    "alluxio_results"
   ],
   "metadata": {
    "collapsed": false,
    "ExecuteTime": {
     "end_time": "2024-11-02T23:15:15.074643Z",
     "start_time": "2024-11-02T23:15:14.839941Z"
    }
   },
   "id": "8aa605bb7a3dba74",
   "execution_count": 41
  },
  {
   "cell_type": "code",
   "outputs": [],
   "source": [],
   "metadata": {
    "collapsed": false
   },
   "id": "9478c5e26ece537b"
  }
 ],
 "metadata": {
  "kernelspec": {
   "display_name": "Python 3",
   "language": "python",
   "name": "python3"
  },
  "language_info": {
   "codemirror_mode": {
    "name": "ipython",
    "version": 2
   },
   "file_extension": ".py",
   "mimetype": "text/x-python",
   "name": "python",
   "nbconvert_exporter": "python",
   "pygments_lexer": "ipython2",
   "version": "2.7.6"
  }
 },
 "nbformat": 4,
 "nbformat_minor": 5
}
