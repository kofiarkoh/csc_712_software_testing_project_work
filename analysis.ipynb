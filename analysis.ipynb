{
 "cells": [
  {
   "cell_type": "code",
   "execution_count": 1,
   "id": "initial_id",
   "metadata": {
    "collapsed": true,
    "ExecuteTime": {
     "end_time": "2024-11-01T23:27:20.169990Z",
     "start_time": "2024-11-01T23:27:19.713954Z"
    }
   },
   "outputs": [],
   "source": [
    "import pandas as pd\n",
    "import os"
   ]
  },
  {
   "cell_type": "code",
   "outputs": [
    {
     "name": "stdout",
     "output_type": "stream",
     "text": [
      "Total number of rows: 67143\n"
     ]
    }
   ],
   "source": [
    "\n",
    "all_data = pd.DataFrame()\n",
    "\n",
    "for filename in os.listdir('./results/alluxio-core'):\n",
    "    \n",
    "    if filename.startswith('test_result_') and filename.endswith('.tsv'):\n",
    "        full_filepath = f'./results/alluxio-core/{filename}'\n",
    "        df = pd.read_csv(full_filepath, sep='\\t', usecols=[0,1,2,3,4], names=['conf_file', 'colB', 'c', 'status', 'b'], header=None)\n",
    "        \n",
    "        # Append the data to all_data DataFrame\n",
    "        all_data = pd.concat([all_data, df], ignore_index=True)\n",
    "\n",
    "# Count the total number of rows\n",
    "row_count = all_data.shape[0]\n",
    "print(f\"Total number of rows: {row_count}\")\n",
    "\n"
   ],
   "metadata": {
    "collapsed": false,
    "ExecuteTime": {
     "end_time": "2024-11-01T23:37:50.300425Z",
     "start_time": "2024-11-01T23:37:49.983320Z"
    }
   },
   "id": "727f24a7228cf762",
   "execution_count": 5
  },
  {
   "cell_type": "code",
   "outputs": [
    {
     "data": {
      "text/plain": "                                        conf_file  \\\n0         alluxio.master.ufs.active.sync.interval   \n1         alluxio.master.ufs.active.sync.interval   \n2         alluxio.master.ufs.active.sync.interval   \n3         alluxio.master.ufs.active.sync.interval   \n4         alluxio.master.ufs.active.sync.interval   \n...                                           ...   \n67138  alluxio.master.rpc.executor.core.pool.size   \n67139  alluxio.master.rpc.executor.core.pool.size   \n67140  alluxio.master.rpc.executor.core.pool.size   \n67141  alluxio.master.rpc.executor.core.pool.size   \n67142  alluxio.master.rpc.executor.core.pool.size   \n\n                                                    colB     c status      b  \n0      alluxio.client.block.AlluxioBlockStoreTest#get...  1sec      p  0.222  \n1      alluxio.client.block.stream.GrpcDataReaderTest...  1sec      p  0.326  \n2      alluxio.master.file.FileSystemMasterTest#ttlFi...  1sec      p  0.318  \n3      alluxio.client.file.FileSystemContextTest#acqu...  1sec      p  0.585  \n4      alluxio.master.file.FileSystemMasterTest#freeN...  1sec      p  0.321  \n...                                                  ...   ...    ...    ...  \n67138  alluxio.master.file.PermissionCheckTest#create...    -1      p  0.244  \n67139  alluxio.master.file.FileSystemMasterTest#setAc...    -1      p  0.323  \n67140  alluxio.hadoop.AbstractFileSystemTest#resetCon...    -1      p  0.659  \n67141  alluxio.client.block.stream.GrpcDataWriterTest...    -1      p  0.377  \n67142         alluxio.AbstractClientTest#serviceNotFound    -1      p  0.092  \n\n[67143 rows x 5 columns]",
      "text/html": "<div>\n<style scoped>\n    .dataframe tbody tr th:only-of-type {\n        vertical-align: middle;\n    }\n\n    .dataframe tbody tr th {\n        vertical-align: top;\n    }\n\n    .dataframe thead th {\n        text-align: right;\n    }\n</style>\n<table border=\"1\" class=\"dataframe\">\n  <thead>\n    <tr style=\"text-align: right;\">\n      <th></th>\n      <th>conf_file</th>\n      <th>colB</th>\n      <th>c</th>\n      <th>status</th>\n      <th>b</th>\n    </tr>\n  </thead>\n  <tbody>\n    <tr>\n      <th>0</th>\n      <td>alluxio.master.ufs.active.sync.interval</td>\n      <td>alluxio.client.block.AlluxioBlockStoreTest#get...</td>\n      <td>1sec</td>\n      <td>p</td>\n      <td>0.222</td>\n    </tr>\n    <tr>\n      <th>1</th>\n      <td>alluxio.master.ufs.active.sync.interval</td>\n      <td>alluxio.client.block.stream.GrpcDataReaderTest...</td>\n      <td>1sec</td>\n      <td>p</td>\n      <td>0.326</td>\n    </tr>\n    <tr>\n      <th>2</th>\n      <td>alluxio.master.ufs.active.sync.interval</td>\n      <td>alluxio.master.file.FileSystemMasterTest#ttlFi...</td>\n      <td>1sec</td>\n      <td>p</td>\n      <td>0.318</td>\n    </tr>\n    <tr>\n      <th>3</th>\n      <td>alluxio.master.ufs.active.sync.interval</td>\n      <td>alluxio.client.file.FileSystemContextTest#acqu...</td>\n      <td>1sec</td>\n      <td>p</td>\n      <td>0.585</td>\n    </tr>\n    <tr>\n      <th>4</th>\n      <td>alluxio.master.ufs.active.sync.interval</td>\n      <td>alluxio.master.file.FileSystemMasterTest#freeN...</td>\n      <td>1sec</td>\n      <td>p</td>\n      <td>0.321</td>\n    </tr>\n    <tr>\n      <th>...</th>\n      <td>...</td>\n      <td>...</td>\n      <td>...</td>\n      <td>...</td>\n      <td>...</td>\n    </tr>\n    <tr>\n      <th>67138</th>\n      <td>alluxio.master.rpc.executor.core.pool.size</td>\n      <td>alluxio.master.file.PermissionCheckTest#create...</td>\n      <td>-1</td>\n      <td>p</td>\n      <td>0.244</td>\n    </tr>\n    <tr>\n      <th>67139</th>\n      <td>alluxio.master.rpc.executor.core.pool.size</td>\n      <td>alluxio.master.file.FileSystemMasterTest#setAc...</td>\n      <td>-1</td>\n      <td>p</td>\n      <td>0.323</td>\n    </tr>\n    <tr>\n      <th>67140</th>\n      <td>alluxio.master.rpc.executor.core.pool.size</td>\n      <td>alluxio.hadoop.AbstractFileSystemTest#resetCon...</td>\n      <td>-1</td>\n      <td>p</td>\n      <td>0.659</td>\n    </tr>\n    <tr>\n      <th>67141</th>\n      <td>alluxio.master.rpc.executor.core.pool.size</td>\n      <td>alluxio.client.block.stream.GrpcDataWriterTest...</td>\n      <td>-1</td>\n      <td>p</td>\n      <td>0.377</td>\n    </tr>\n    <tr>\n      <th>67142</th>\n      <td>alluxio.master.rpc.executor.core.pool.size</td>\n      <td>alluxio.AbstractClientTest#serviceNotFound</td>\n      <td>-1</td>\n      <td>p</td>\n      <td>0.092</td>\n    </tr>\n  </tbody>\n</table>\n<p>67143 rows × 5 columns</p>\n</div>"
     },
     "execution_count": 21,
     "metadata": {},
     "output_type": "execute_result"
    }
   ],
   "source": [
    "all_data"
   ],
   "metadata": {
    "collapsed": false,
    "ExecuteTime": {
     "end_time": "2024-11-01T22:24:01.076879Z",
     "start_time": "2024-11-01T22:24:01.051405Z"
    }
   },
   "id": "92d5db34d3ee82d4",
   "execution_count": 21
  },
  {
   "cell_type": "code",
   "outputs": [
    {
     "data": {
      "text/plain": "colB\nalluxio.client.block.AlluxioBlockStoreTest#getInStreamLocal                          152\nalluxio.master.journal.ufs.UfsJournalFileTest#temporaryCheckpointFilename            152\nalluxio.master.journal.ufs.UfsJournalFileTest#incompleteLogFilename                  152\nalluxio.master.journal.ufs.UfsJournalFileTest#createIncompleteLogFile                152\nalluxio.client.file.BaseFileSystemTest#unmount                                       152\n                                                                                    ... \nalluxio.master.SafeModeManagerTest#reenterSafeModeOnRpcServerStartWhileInSafeMode      8\nalluxio.master.SafeModeManagerTest#enterSafeModeOnPrimaryMasterStart                   8\nalluxio.conf.InstancedConfigurationTest#shortMasterHeartBeatTimeout                    8\nalluxio.network.TieredIdentityFactoryTest#outOfOrderScript                             8\nalluxio.master.PollingMasterInquireClientTest#pollRejectingDoesntHang                  2\nName: count, Length: 1117, dtype: int64"
     },
     "execution_count": 20,
     "metadata": {},
     "output_type": "execute_result"
    }
   ],
   "source": [
    "all_data['colB'].value_counts()"
   ],
   "metadata": {
    "collapsed": false,
    "ExecuteTime": {
     "end_time": "2024-11-01T22:22:31.633742Z",
     "start_time": "2024-11-01T22:22:31.617808Z"
    }
   },
   "id": "7ec299d08027f2b4",
   "execution_count": 20
  },
  {
   "cell_type": "code",
   "outputs": [
    {
     "data": {
      "text/plain": "                                     conf_file  \\\n0    alluxio.master.rpc.executor.max.pool.size   \n1    alluxio.master.rpc.executor.max.pool.size   \n2    alluxio.master.rpc.executor.max.pool.size   \n3    alluxio.master.rpc.executor.max.pool.size   \n4    alluxio.master.rpc.executor.max.pool.size   \n..                                         ...   \n761  alluxio.master.rpc.executor.max.pool.size   \n762  alluxio.master.rpc.executor.max.pool.size   \n763  alluxio.master.rpc.executor.max.pool.size   \n764  alluxio.master.rpc.executor.max.pool.size   \n765  alluxio.master.rpc.executor.max.pool.size   \n\n                                                  colB     c status      b  \n0    alluxio.master.file.FileSystemMasterTest#listS...   250      p  0.350  \n1    alluxio.client.block.AlluxioBlockStoreTest#get...   250      p  0.222  \n2    alluxio.master.file.PermissionCheckTest#setGro...   250      p  0.242  \n3    alluxio.master.file.PermissionCheckTest#delete...   250      p  0.248  \n4    alluxio.client.block.stream.BlockInStreamTest#...   250      p  0.171  \n..                                                 ...   ...    ...    ...  \n761  alluxio.hadoop.AbstractFileSystemTest#initiali...  1000      p  0.645  \n762  alluxio.master.file.PermissionCheckTest#create...  1000      p  0.246  \n763  alluxio.master.file.replication.ReplicationChe...  1000      p  0.225  \n764  alluxio.master.journal.sink.JournalSinkTest#wr...  1000      p  0.331  \n765  alluxio.master.file.PermissionCheckTest#setOwn...  1000      p  0.243  \n\n[766 rows x 5 columns]",
      "text/html": "<div>\n<style scoped>\n    .dataframe tbody tr th:only-of-type {\n        vertical-align: middle;\n    }\n\n    .dataframe tbody tr th {\n        vertical-align: top;\n    }\n\n    .dataframe thead th {\n        text-align: right;\n    }\n</style>\n<table border=\"1\" class=\"dataframe\">\n  <thead>\n    <tr style=\"text-align: right;\">\n      <th></th>\n      <th>conf_file</th>\n      <th>colB</th>\n      <th>c</th>\n      <th>status</th>\n      <th>b</th>\n    </tr>\n  </thead>\n  <tbody>\n    <tr>\n      <th>0</th>\n      <td>alluxio.master.rpc.executor.max.pool.size</td>\n      <td>alluxio.master.file.FileSystemMasterTest#listS...</td>\n      <td>250</td>\n      <td>p</td>\n      <td>0.350</td>\n    </tr>\n    <tr>\n      <th>1</th>\n      <td>alluxio.master.rpc.executor.max.pool.size</td>\n      <td>alluxio.client.block.AlluxioBlockStoreTest#get...</td>\n      <td>250</td>\n      <td>p</td>\n      <td>0.222</td>\n    </tr>\n    <tr>\n      <th>2</th>\n      <td>alluxio.master.rpc.executor.max.pool.size</td>\n      <td>alluxio.master.file.PermissionCheckTest#setGro...</td>\n      <td>250</td>\n      <td>p</td>\n      <td>0.242</td>\n    </tr>\n    <tr>\n      <th>3</th>\n      <td>alluxio.master.rpc.executor.max.pool.size</td>\n      <td>alluxio.master.file.PermissionCheckTest#delete...</td>\n      <td>250</td>\n      <td>p</td>\n      <td>0.248</td>\n    </tr>\n    <tr>\n      <th>4</th>\n      <td>alluxio.master.rpc.executor.max.pool.size</td>\n      <td>alluxio.client.block.stream.BlockInStreamTest#...</td>\n      <td>250</td>\n      <td>p</td>\n      <td>0.171</td>\n    </tr>\n    <tr>\n      <th>...</th>\n      <td>...</td>\n      <td>...</td>\n      <td>...</td>\n      <td>...</td>\n      <td>...</td>\n    </tr>\n    <tr>\n      <th>761</th>\n      <td>alluxio.master.rpc.executor.max.pool.size</td>\n      <td>alluxio.hadoop.AbstractFileSystemTest#initiali...</td>\n      <td>1000</td>\n      <td>p</td>\n      <td>0.645</td>\n    </tr>\n    <tr>\n      <th>762</th>\n      <td>alluxio.master.rpc.executor.max.pool.size</td>\n      <td>alluxio.master.file.PermissionCheckTest#create...</td>\n      <td>1000</td>\n      <td>p</td>\n      <td>0.246</td>\n    </tr>\n    <tr>\n      <th>763</th>\n      <td>alluxio.master.rpc.executor.max.pool.size</td>\n      <td>alluxio.master.file.replication.ReplicationChe...</td>\n      <td>1000</td>\n      <td>p</td>\n      <td>0.225</td>\n    </tr>\n    <tr>\n      <th>764</th>\n      <td>alluxio.master.rpc.executor.max.pool.size</td>\n      <td>alluxio.master.journal.sink.JournalSinkTest#wr...</td>\n      <td>1000</td>\n      <td>p</td>\n      <td>0.331</td>\n    </tr>\n    <tr>\n      <th>765</th>\n      <td>alluxio.master.rpc.executor.max.pool.size</td>\n      <td>alluxio.master.file.PermissionCheckTest#setOwn...</td>\n      <td>1000</td>\n      <td>p</td>\n      <td>0.243</td>\n    </tr>\n  </tbody>\n</table>\n<p>766 rows × 5 columns</p>\n</div>"
     },
     "execution_count": 15,
     "metadata": {},
     "output_type": "execute_result"
    }
   ],
   "source": [
    "df = pd.read_csv('test_result_alluxio.master.rpc.executor.max.pool.size.tsv', sep='\\t', usecols=[0,1,2,3,4], names=['conf_file', 'colB', 'c', 'status', 'b'], header=None)\n",
    "df"
   ],
   "metadata": {
    "collapsed": false,
    "ExecuteTime": {
     "end_time": "2024-11-01T22:17:58.995533Z",
     "start_time": "2024-11-01T22:17:58.983009Z"
    }
   },
   "id": "919029054af9fc43",
   "execution_count": 15
  },
  {
   "cell_type": "code",
   "outputs": [
    {
     "data": {
      "text/plain": "(766, 5)"
     },
     "execution_count": 22,
     "metadata": {},
     "output_type": "execute_result"
    }
   ],
   "source": [
    "df.shape"
   ],
   "metadata": {
    "collapsed": false,
    "ExecuteTime": {
     "end_time": "2024-11-01T22:24:35.993491Z",
     "start_time": "2024-11-01T22:24:35.987626Z"
    }
   },
   "id": "952d089bf774df32",
   "execution_count": 22
  },
  {
   "cell_type": "code",
   "outputs": [],
   "source": [],
   "metadata": {
    "collapsed": false
   },
   "id": "90032098c45d723b"
  }
 ],
 "metadata": {
  "kernelspec": {
   "display_name": "Python 3",
   "language": "python",
   "name": "python3"
  },
  "language_info": {
   "codemirror_mode": {
    "name": "ipython",
    "version": 2
   },
   "file_extension": ".py",
   "mimetype": "text/x-python",
   "name": "python",
   "nbconvert_exporter": "python",
   "pygments_lexer": "ipython2",
   "version": "2.7.6"
  }
 },
 "nbformat": 4,
 "nbformat_minor": 5
}
